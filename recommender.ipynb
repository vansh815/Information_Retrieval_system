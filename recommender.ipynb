{
  "nbformat": 4,
  "nbformat_minor": 0,
  "metadata": {
    "kernelspec": {
      "display_name": "Python 3",
      "language": "python",
      "name": "python3"
    },
    "language_info": {
      "codemirror_mode": {
        "name": "ipython",
        "version": 3
      },
      "file_extension": ".py",
      "mimetype": "text/x-python",
      "name": "python",
      "nbconvert_exporter": "python",
      "pygments_lexer": "ipython3",
      "version": "3.6.5"
    },
    "colab": {
      "name": "recommender.ipynb",
      "provenance": []
    }
  },
  "cells": [
    {
      "cell_type": "code",
      "metadata": {
        "id": "8HdFh77ZTFXH",
        "colab_type": "code",
        "colab": {},
        "outputId": "b7c4a133-a88d-42a6-a0f9-1b42537fc0ae"
      },
      "source": [
        "import numpy as np\n",
        "import pandas as pd\n",
        "import matplotlib.pyplot as plt  \n",
        "import seaborn as sns  \n",
        "sns.set_style('dark')  \n",
        "%matplotlib inline\n",
        "\n",
        "ratings_data = pd.read_csv(\"C:\\\\Users\\\\shrey\\\\Desktop\\\\sem-7\\\\IRS-lab\\\\15BIT059_P8\\\\ml-latest-small\\\\ratings.csv\")\n",
        "ratings_data.head()\n",
        "movie_names = pd.read_csv(\"C:\\\\Users\\\\shrey\\\\Desktop\\\\sem-7\\\\IRS-lab\\\\15BIT059_P8\\\\ml-latest-small\\\\movies.csv\")  \n",
        "movie_names.head() \n",
        "\n",
        "movie_data = pd.merge(ratings_data, movie_names, on='movieId')\n",
        "movie_data.head()\n",
        "\n",
        "movie_data.groupby('title')['rating'].mean().head()\n",
        "\n",
        "movie_data.groupby('title')['rating'].mean().sort_values(ascending=False).head()\n",
        "\n",
        "ratings_mean_count = pd.DataFrame(movie_data.groupby('title')['rating'].mean())\n",
        "ratings_mean_count['rating_counts'] = pd.DataFrame(movie_data.groupby('title')['rating'].count())\n",
        "ratings_mean_count.head()\n",
        "\n",
        "plt.figure(figsize=(8,6))  \n",
        "plt.title(\"x = rating, y = numer of such ratings\")\n",
        "plt.rcParams['patch.force_edgecolor'] = True  \n",
        "ratings_mean_count['rating_counts'].hist(bins=50)\n",
        "\n",
        "plt.figure(figsize=(8,6))  \n",
        "plt.title(\"x = averaging rating, y = number of people givint rating\")\n",
        "plt.rcParams['patch.force_edgecolor'] = True  \n",
        "ratings_mean_count['rating'].hist(bins=50) \n",
        "\n",
        "user_movie_rating = movie_data.pivot_table(index='userId', columns='title', values='rating')\n",
        "user_movie_rating.head()\n",
        "forrest_gump_ratings = user_movie_rating['Forrest Gump (1994)']\n",
        "forrest_gump_ratings.head()\n",
        "\n",
        "movies_like_forest_gump = user_movie_rating.corrwith(forrest_gump_ratings)\n",
        "\n",
        "corr_forrest_gump = pd.DataFrame(movies_like_forest_gump, columns=['Correlation'])  \n",
        "corr_forrest_gump.dropna(inplace=True)  \n",
        "corr_forrest_gump.head()\n",
        "\n",
        "movies_like_forest_gump = user_movie_rating.corrwith(forrest_gump_ratings)\n",
        "\n",
        "corr_forrest_gump = pd.DataFrame(movies_like_forest_gump, columns=['Correlation'])  \n",
        "corr_forrest_gump.dropna(inplace=True)  \n",
        "corr_forrest_gump.head() \n",
        "corr_forrest_gump.sort_values('Correlation', ascending=False).head(10)\n",
        "corr_forrest_gump = corr_forrest_gump.join(ratings_mean_count['rating_counts'])  \n",
        "corr_forrest_gump.head() \n",
        "corr_forrest_gump[corr_forrest_gump ['rating_counts']>50].sort_values('Correlation', ascending=False).head() "
      ],
      "execution_count": 0,
      "outputs": [
        {
          "output_type": "stream",
          "text": [
            "C:\\Users\\shrey\\Anaconda3\\Lib\\site-packages\\numpy\\lib\\function_base.py:3175: RuntimeWarning: Degrees of freedom <= 0 for slice\n",
            "  c = cov(x, y, rowvar)\n",
            "C:\\Users\\shrey\\Anaconda3\\Lib\\site-packages\\numpy\\lib\\function_base.py:3109: RuntimeWarning: divide by zero encountered in double_scalars\n",
            "  c *= 1. / np.float64(fact)\n"
          ],
          "name": "stderr"
        },
        {
          "output_type": "execute_result",
          "data": {
            "text/html": [
              "<div>\n",
              "<style scoped>\n",
              "    .dataframe tbody tr th:only-of-type {\n",
              "        vertical-align: middle;\n",
              "    }\n",
              "\n",
              "    .dataframe tbody tr th {\n",
              "        vertical-align: top;\n",
              "    }\n",
              "\n",
              "    .dataframe thead th {\n",
              "        text-align: right;\n",
              "    }\n",
              "</style>\n",
              "<table border=\"1\" class=\"dataframe\">\n",
              "  <thead>\n",
              "    <tr style=\"text-align: right;\">\n",
              "      <th></th>\n",
              "      <th>Correlation</th>\n",
              "      <th>rating_counts</th>\n",
              "    </tr>\n",
              "    <tr>\n",
              "      <th>title</th>\n",
              "      <th></th>\n",
              "      <th></th>\n",
              "    </tr>\n",
              "  </thead>\n",
              "  <tbody>\n",
              "    <tr>\n",
              "      <th>Forrest Gump (1994)</th>\n",
              "      <td>1.000000</td>\n",
              "      <td>329</td>\n",
              "    </tr>\n",
              "    <tr>\n",
              "      <th>Mr. Holland's Opus (1995)</th>\n",
              "      <td>0.652144</td>\n",
              "      <td>80</td>\n",
              "    </tr>\n",
              "    <tr>\n",
              "      <th>Pocahontas (1995)</th>\n",
              "      <td>0.550118</td>\n",
              "      <td>68</td>\n",
              "    </tr>\n",
              "    <tr>\n",
              "      <th>Grumpier Old Men (1995)</th>\n",
              "      <td>0.534682</td>\n",
              "      <td>52</td>\n",
              "    </tr>\n",
              "    <tr>\n",
              "      <th>Caddyshack (1980)</th>\n",
              "      <td>0.520328</td>\n",
              "      <td>52</td>\n",
              "    </tr>\n",
              "  </tbody>\n",
              "</table>\n",
              "</div>"
            ],
            "text/plain": [
              "                           Correlation  rating_counts\n",
              "title                                                \n",
              "Forrest Gump (1994)           1.000000            329\n",
              "Mr. Holland's Opus (1995)     0.652144             80\n",
              "Pocahontas (1995)             0.550118             68\n",
              "Grumpier Old Men (1995)       0.534682             52\n",
              "Caddyshack (1980)             0.520328             52"
            ]
          },
          "metadata": {
            "tags": []
          },
          "execution_count": 15
        },
        {
          "output_type": "display_data",
          "data": {
            "image/png": "[encoded data removed]",
            "text/plain": [
              "<Figure size 576x432 with 1 Axes>"
            ]
          },
          "metadata": {
            "tags": []
          }
        },
        {
          "output_type": "display_data",
          "data": {
            "image/png": "[encoded data removed]",
            "text/plain": [
              "<Figure size 576x432 with 1 Axes>"
            ]
          },
          "metadata": {
            "tags": []
          }
        }
      ]
    },
    {
      "cell_type": "code",
      "metadata": {
        "id": "iCcRFkOpTFXO",
        "colab_type": "code",
        "colab": {}
      },
      "source": [
        ""
      ],
      "execution_count": 0,
      "outputs": []
    }
  ]
}