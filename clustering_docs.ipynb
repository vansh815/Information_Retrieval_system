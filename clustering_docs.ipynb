{
  "nbformat": 4,
  "nbformat_minor": 0,
  "metadata": {
    "kernelspec": {
      "display_name": "Python 3",
      "language": "python",
      "name": "python3"
    },
    "language_info": {
      "codemirror_mode": {
        "name": "ipython",
        "version": 3
      },
      "file_extension": ".py",
      "mimetype": "text/x-python",
      "name": "python",
      "nbconvert_exporter": "python",
      "pygments_lexer": "ipython3",
      "version": "3.6.3"
    },
    "colab": {
      "name": "clustering_docs.ipynb",
      "provenance": []
    }
  },
  "cells": [
    {
      "cell_type": "code",
      "metadata": {
        "id": "9J3oOHToTDIB",
        "colab_type": "code",
        "colab": {},
        "outputId": "ea67c4c6-1427-4456-f55b-50175cd7278c"
      },
      "source": [
        "from sklearn.feature_extraction.text import TfidfVectorizer\n",
        "from sklearn.neighbors import KNeighborsClassifier\n",
        "from sklearn.cluster import KMeans\n",
        "from nltk.corpus import stopwords\n",
        "from nltk.stem.wordnet import WordNetLemmatizer\n",
        "import string\n",
        "import re\n",
        "import numpy as np\n",
        "from collections import Counter\n",
        " \n",
        "stop = set(stopwords.words('english'))\n",
        "exclude = set(string.punctuation)\n",
        "lemma = WordNetLemmatizer()\n",
        "\n",
        "def clean(doc):\n",
        "    stop_free = \" \".join([i for i in doc.lower().split() if i not in stop])\n",
        "    punc_free = ''.join(ch for ch in stop_free if ch not in exclude)\n",
        "    normalized = \" \".join(lemma.lemmatize(word) for word in punc_free.split())\n",
        "    processed = re.sub(r\"\\d+\",\"\",normalized)\n",
        "    y = processed.split()\n",
        "    return y\n",
        "\n",
        "print (\"There are 10 sentences of following three classes on which K-NN classification and K-means clustering\"\\\n",
        "         \" is performed : \\n1. Cricket \\n2. Artificial Intelligence \\n3. Chemistry\")\n",
        "path = \"Sentences.txt\"\n",
        " \n",
        "train_clean_sentences = []\n",
        "fp = open(path,'r')\n",
        "for line in fp:\n",
        "    line = line.strip()\n",
        "    cleaned = clean(line)\n",
        "    cleaned = ' '.join(cleaned)\n",
        "    train_clean_sentences.append(cleaned)\n",
        " \n",
        "vectorizer = TfidfVectorizer(stop_words='english')\n",
        "X = vectorizer.fit_transform(train_clean_sentences)\n",
        "\n",
        "y_train = np.zeros(30)\n",
        "y_train[10:20] = 1\n",
        "y_train[20:30] = 2\n",
        "\n",
        "modelknn = KNeighborsClassifier(n_neighbors=5)\n",
        "modelknn.fit(X,y_train)\n",
        " \n",
        "modelkmeans = KMeans(n_clusters=3, init='k-means++', max_iter=200, n_init=100)\n",
        "modelkmeans.fit(X)\n",
        "\n",
        "test_sentences = [\"Chemical compunds are used for preparing bombs based on some reactions\",\n",
        "                  \"Cricket is a boring game where the batsman only enjoys the game\",\n",
        "                  \"Machine learning is a area of Artificial intelligence\"]\n",
        " \n",
        "test_clean_sentence = []\n",
        "for test in test_sentences:\n",
        "    cleaned_test = clean(test)\n",
        "    cleaned = ' '.join(cleaned_test)\n",
        "    cleaned = re.sub(r\"\\d+\",\"\",cleaned)\n",
        "    test_clean_sentence.append(cleaned)\n",
        " \n",
        "Test = vectorizer.transform(test_clean_sentence)\n",
        " \n",
        "true_test_labels = ['Cricket','AI','Chemistry']\n",
        "predicted_labels_knn = modelknn.predict(Test)\n",
        "predicted_labels_kmeans = modelkmeans.predict(Test)\n",
        " \n",
        "print(\"\\nBelow 3 sentences will be predicted against the learned nieghbourhood and learned clusters:\\n1. \",\n",
        "      test_sentences[0],\"\\n2. \",test_sentences[1],\"\\n3. \",test_sentences[2])\n",
        "print(\"\\n-------------------------------PREDICTIONS BY KNN------------------------------------------\")\n",
        "print(\"\\n\",test_sentences[0],\":\",true_test_labels[np.int(predicted_labels_knn[0])],\n",
        "      \"\\n\",test_sentences[1],\":\",true_test_labels[np.int(predicted_labels_knn[1])],\n",
        "      \"\\n\",test_sentences[2],\":\",true_test_labels[np.int(predicted_labels_knn[2])])\n",
        " \n",
        "print(\"\\n-------------------------------PREDICTIONS BY K-Means--------------------------------------\")\n",
        "print(\"\\nIndex of Cricket cluster : \",Counter(modelkmeans.labels_[0:10]).most_common(1)[0][0])\n",
        "print(\"Index of Artificial Intelligence cluster : \",Counter(modelkmeans.labels_[10:20]).most_common(1)[0][0])\n",
        "print(\"Index of Chemistry cluster : \",Counter(modelkmeans.labels_[20:30]).most_common(1)[0][0])\n",
        " \n",
        "print(\"\\n\",test_sentences[0],\":\",predicted_labels_kmeans[0],\n",
        "      \"\\n\",test_sentences[1],\":\",predicted_labels_kmeans[1],\n",
        "      \"\\n\",test_sentences[2],\":\",predicted_labels_kmeans[2])"
      ],
      "execution_count": 0,
      "outputs": [
        {
          "output_type": "stream",
          "text": [
            "There are 10 sentences of following three classes on which K-NN classification and K-means clustering is performed : \n",
            "1. Cricket \n",
            "2. Artificial Intelligence \n",
            "3. Chemistry\n",
            "['chemical compunds used preparing bomb based reaction', 'cricket boring game batsman enjoys game', 'machine learning area artificial intelligence']\n",
            "\n",
            "Below 3 sentences will be predicted against the learned nieghbourhood and learned clusters:\n",
            "1.  Chemical compunds are used for preparing bombs based on some reactions \n",
            "2.  Cricket is a boring game where the batsman only enjoys the game \n",
            "3.  Machine learning is a area of Artificial intelligence\n",
            "\n",
            "-------------------------------PREDICTIONS BY KNN------------------------------------------\n",
            "\n",
            " Chemical compunds are used for preparing bombs based on some reactions : Chemistry \n",
            " Cricket is a boring game where the batsman only enjoys the game : Cricket \n",
            " Machine learning is a area of Artificial intelligence : AI\n",
            "\n",
            "-------------------------------PREDICTIONS BY K-Means--------------------------------------\n",
            "\n",
            "Index of Cricket cluster :  1\n",
            "Index of Artificial Intelligence cluster :  2\n",
            "Index of Chemistry cluster :  0\n",
            "\n",
            " Chemical compunds are used for preparing bombs based on some reactions : 0 \n",
            " Cricket is a boring game where the batsman only enjoys the game : 1 \n",
            " Machine learning is a area of Artificial intelligence : 2\n"
          ],
          "name": "stdout"
        }
      ]
    },
    {
      "cell_type": "code",
      "metadata": {
        "id": "wxhXGPLxTDIH",
        "colab_type": "code",
        "colab": {}
      },
      "source": [
        ""
      ],
      "execution_count": 0,
      "outputs": []
    }
  ]
}